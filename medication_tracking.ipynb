{
 "cells": [
  {
   "cell_type": "markdown",
   "metadata": {},
   "source": [
    "# Loops: While and For"
   ]
  },
  {
   "cell_type": "markdown",
   "metadata": {},
   "source": [
    "## 1. Medication Problem\n",
    "\n",
    "Kimberly rountinely receives calls from her hospital of care regarding prescription refills on her medications. She oftens forgets information regarding her medications however, which makes those calls inefficient. Thankfully, she can at least remember how many days she's taken her medication and the total milligrams she takes each day for each medication. Let's look at a couple of ways that Python can provide Kimberly with assistance."
   ]
  },
  {
   "cell_type": "markdown",
   "metadata": {},
   "source": [
    "## 2. Days of doses left\n",
    "\n",
    "We can help Kimberly calculate the total number of days that she has left for her first medication."
   ]
  },
  {
   "cell_type": "code",
   "execution_count": 2,
   "metadata": {},
   "outputs": [
    {
     "name": "stdout",
     "output_type": "stream",
     "text": [
      "How many days have you taken your medication?: 22\n",
      "Enter the total number of capsules: 120\n",
      "Enter the number of capsules per day: 4\n",
      "\n",
      "1 92.0\n",
      "2 96.0\n",
      "3 100.0\n",
      "4 104.0\n",
      "5 108.0\n",
      "6 112.0\n",
      "7 116.0\n",
      "8 120.0\n",
      "\n",
      "There are 8 days of medication 1 left.\n"
     ]
    }
   ],
   "source": [
    "#Write the needed inputs\n",
    "dt = float(input(\"How many days have you taken your medication?: \"))\n",
    "full_total = float(input(\"Enter the total number of capsules: \"))\n",
    "capsules = float(input(\"Enter the number of capsules per day: \"))\n",
    "print()\n",
    "\n",
    "# Initialize any needed variables\n",
    "days = 0              #that is our counter variable, what we want to calculate\n",
    "current_total = dt * capsules\n",
    "\n",
    "# Loop to repeat the interest calculation until the current total is = the full total.\n",
    "# How do we structure that as a while loop?\n",
    "while current_total < full_total: \n",
    "        current_total = current_total + 4\n",
    "        days = days + 1\n",
    "        print(days, current_total)\n",
    "\n",
    "\n",
    "# report the number of days left before there are no capsules left.\n",
    "print('\\nThere are', days, 'days of medication 1 left.')"
   ]
  },
  {
   "cell_type": "markdown",
   "metadata": {},
   "source": [
    "## 3. Total milligrams taken\n",
    "\n",
    "Let's help Kimberly calculate the total amount of milligrams that she has taken so far for her first or second medication."
   ]
  },
  {
   "cell_type": "code",
   "execution_count": 4,
   "metadata": {},
   "outputs": [
    {
     "name": "stdout",
     "output_type": "stream",
     "text": [
      "Enter 1 for medication one or 2 for medication two: 2\n",
      "How many days have you taken your medication?: 2\n",
      "Enter the total milligram amount per day: 6\n",
      "Enter the total milligram amount per day: 6\n",
      "\n",
      " 12.0 milligrams of medication 2 were taken the past 2 days.\n"
     ]
    }
   ],
   "source": [
    "#Create an input for the number of days that pills have been taken\n",
    "med = input('Enter 1 for medication one or 2 for medication two: ')\n",
    "num = int(input('How many days have you taken your medication?: '))\n",
    "\n",
    "\n",
    "# Initialize the accumulator and counter variables\n",
    "total = 0\n",
    "count = 0\n",
    "capsules = num\n",
    "\n",
    "if med == 1:\n",
    "    for item in range(num):\n",
    "        mg = float(input('Enter the total milligram amount per day: '))\n",
    "        total += mg\n",
    "        count += 1\n",
    "  \n",
    "else:\n",
    "    for item in range(num):\n",
    "        mg = float(input('Enter the total milligram amount per day: '))\n",
    "        total += mg\n",
    "        count += 1\n",
    "\n",
    "print('\\n', total, 'milligrams of medication', med, 'were taken the past', count, 'days.')\n",
    "\n"
   ]
  },
  {
   "cell_type": "markdown",
   "metadata": {},
   "source": [
    "## 4. Days until doctor's appointment \n",
    "\n",
    "While we are still working with Kimberly, let's go ahead and help her find out how many days she has left until her next doctor's appointment."
   ]
  },
  {
   "cell_type": "code",
   "execution_count": 5,
   "metadata": {},
   "outputs": [
    {
     "name": "stdout",
     "output_type": "stream",
     "text": [
      "170 days, 0:00:00\n"
     ]
    }
   ],
   "source": [
    "#Import the datetime package\n",
    "import datetime \n",
    "\n",
    "#Create a formula to determine the number of days until the doctor's appointment\n",
    "appointment = datetime.date(2021,9,16) - datetime.date.today()\n",
    "print(appointment)"
   ]
  }
 ],
 "metadata": {
  "kernelspec": {
   "display_name": "Python 3",
   "language": "python",
   "name": "python3"
  },
  "language_info": {
   "codemirror_mode": {
    "name": "ipython",
    "version": 3
   },
   "file_extension": ".py",
   "mimetype": "text/x-python",
   "name": "python",
   "nbconvert_exporter": "python",
   "pygments_lexer": "ipython3",
   "version": "3.8.5"
  }
 },
 "nbformat": 4,
 "nbformat_minor": 4
}
